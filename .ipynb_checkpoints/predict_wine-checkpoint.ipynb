{
 "cells": [
  {
   "cell_type": "code",
   "execution_count": 3,
   "metadata": {},
   "outputs": [
    {
     "data": {
      "application/vnd.jupyter.widget-view+json": {
       "model_id": "82fbaee0332c40cda04ea014543005f5",
       "version_major": 2,
       "version_minor": 0
      },
      "text/plain": [
       "VBox(children=(Label(value='Wine Quality prediction'), Dropdown(description='Tipo:', options=(0, 1), value=0),…"
      ]
     },
     "metadata": {},
     "output_type": "display_data"
    }
   ],
   "source": [
    "import requests\n",
    "from ipywidgets import Label, BoundedFloatText, BoundedIntText, Dropdown, Button, Output, VBox\n",
    "\n",
    "prescribe_label = Label('Wine Quality prediction')\n",
    "tipo = Dropdown(options=[0, 1], description='Tipo:', disabled=False)\n",
    "fixed = BoundedFloatText(min=3, max=16, value=7, description=\"fixed acidity:\", disabled=False)\n",
    "volatile = BoundedFloatText(min=0, max=2, value=1, description=\"volatile acidity:\", disabled=False)\n",
    "citric = BoundedFloatText(min=0, max=2, value=1, description=\"citric acid:\", disabled=False)\n",
    "residual = BoundedFloatText(min=0, max=70, value=45, description=\"residual sugar:\", disabled=False)\n",
    "chlorides = BoundedFloatText(min=0, max=0.7, value=0.5, description=\"chlorides:\", disabled=False)\n",
    "freesulfur = BoundedFloatText(min=1, max=300, value=150, description=\"free sulfur dioxide:\", disabled=False)\n",
    "totalsulfur = BoundedFloatText(min=6, max=450, value=200, description=\"total sulfur dioxide:\", disabled=False)\n",
    "density = BoundedFloatText(min=0.98, max=1.04, value=1, description=\"density:\", disabled=False)\n",
    "ph = BoundedFloatText(min=2.7, max=4.1, value=3, description=\"ph:\", disabled=False)\n",
    "sulphates = BoundedFloatText(min=0.2, max=2, value=1, description=\"sulphates:\", disabled=False)\n",
    "alcohol = BoundedFloatText(min=8, max=15, value=10, description=\"alcohol:\", disabled=False)\n",
    "\n",
    "\n",
    "\n",
    "prescribe_button = Button(description=\"Is a good wine?\")\n",
    "prescribe_output = Output()\n",
    "\n",
    "# Button click event handlers ...\n",
    "def prescribe_button_on_click(b):\n",
    "    \n",
    "    request_url = f\"http://127.0.0.1:5000/wine?tipo={tipo.value}&fixed={fixed.value}&volatile={volatile.value}&citric={citric.value}&residual={residual.value}&chlorides={chlorides.value}&freesulfur={freesulfur.value}&totalsulfur={totalsulfur.value}&density={density.value}&ph={ph.value}&sulphates={sulphates.value}&alcohol={alcohol.value}\"\n",
    "    response = requests.get(request_url)\n",
    "    Wine_Type = response.json()[\"Wine_Type\"]\n",
    "\n",
    "    prescribe_output.clear_output()\n",
    "    with prescribe_output:\n",
    "\n",
    "        print(f\"This Wine is a {Wine_Type}\")\n",
    "        \n",
    "prescribe_button.on_click(prescribe_button_on_click)\n",
    "\n",
    "vbox_prescribe = VBox([prescribe_label, tipo, fixed, volatile, citric, residual, chlorides, freesulfur, totalsulfur, density, ph, sulphates, alcohol, prescribe_button, prescribe_output])\n",
    "\n",
    "vbox_prescribe"
   ]
  },
  {
   "cell_type": "code",
   "execution_count": null,
   "metadata": {},
   "outputs": [],
   "source": []
  }
 ],
 "metadata": {
  "interpreter": {
   "hash": "11a4a60b518bf24989d481468076e5d5982884626aed9faeb35b8576fcd223e1"
  },
  "kernelspec": {
   "display_name": "Python 3",
   "language": "python",
   "name": "python3"
  },
  "language_info": {
   "codemirror_mode": {
    "name": "ipython",
    "version": 3
   },
   "file_extension": ".py",
   "mimetype": "text/x-python",
   "name": "python",
   "nbconvert_exporter": "python",
   "pygments_lexer": "ipython3",
   "version": "3.8.8"
  }
 },
 "nbformat": 4,
 "nbformat_minor": 4
}
